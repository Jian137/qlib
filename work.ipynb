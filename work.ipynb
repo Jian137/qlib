{
 "cells": [
  {
   "cell_type": "markdown",
   "metadata": {},
   "source": [
    "在调用其他 API 之前初始化 Qlib：在 python 中运行以下代码。"
   ]
  },
  {
   "cell_type": "code",
   "execution_count": 16,
   "metadata": {},
   "outputs": [
    {
     "name": "stdout",
     "output_type": "stream",
     "text": [
      "\u001b[32m2024-10-12 19:24:18.989\u001b[0m | \u001b[33m\u001b[1mWARNING \u001b[0m | \u001b[36mqlib.tests.data\u001b[0m:\u001b[36mdownload\u001b[0m:\u001b[36m62\u001b[0m - \u001b[33m\u001b[1mThe data for the example is collected from Yahoo Finance. Please be aware that the quality of the data might not be perfect. (You can refer to the original data source: https://finance.yahoo.com/lookup.)\u001b[0m\n",
      "\u001b[32m2024-10-12 19:24:18.989\u001b[0m | \u001b[1mINFO    \u001b[0m | \u001b[36mqlib.tests.data\u001b[0m:\u001b[36mdownload\u001b[0m:\u001b[36m65\u001b[0m - \u001b[1m20241012192409_qlib_data_cn_1d_latest.zip downloading......\u001b[0m\n",
      "  0%|                            | 833536/196549189 [01:04<5:28:38, 9925.50it/s]^C\n",
      "  0%|                           | 848896/196549189 [01:06<4:16:31, 12714.92it/s]\n",
      "Traceback (most recent call last):\n",
      "  File \"/mnt/e/Biance/qlib/scripts/get_data.py\", line 9, in <module>\n",
      "    fire.Fire(GetData)\n",
      "  File \"/home/marisa/anaconda3/envs/qlib/lib/python3.11/site-packages/fire/core.py\", line 135, in Fire\n",
      "    component_trace = _Fire(component, args, parsed_flag_args, context, name)\n",
      "                      ^^^^^^^^^^^^^^^^^^^^^^^^^^^^^^^^^^^^^^^^^^^^^^^^^^^^^^^\n",
      "  File \"/home/marisa/anaconda3/envs/qlib/lib/python3.11/site-packages/fire/core.py\", line 468, in _Fire\n",
      "    component, remaining_args = _CallAndUpdateTrace(\n",
      "                                ^^^^^^^^^^^^^^^^^^^^\n",
      "  File \"/home/marisa/anaconda3/envs/qlib/lib/python3.11/site-packages/fire/core.py\", line 684, in _CallAndUpdateTrace\n",
      "    component = fn(*varargs, **kwargs)\n",
      "                ^^^^^^^^^^^^^^^^^^^^^^\n",
      "  File \"/home/marisa/anaconda3/envs/qlib/lib/python3.11/site-packages/pyqlib-0.9.5.99-py3.11-linux-x86_64.egg/qlib/tests/data.py\", line 211, in qlib_data\n",
      "    self.download_data(file_name.lower(), target_dir, delete_old)\n",
      "  File \"/home/marisa/anaconda3/envs/qlib/lib/python3.11/site-packages/pyqlib-0.9.5.99-py3.11-linux-x86_64.egg/qlib/tests/data.py\", line 105, in download_data\n",
      "    self.download(url=url, target_path=target_path)\n",
      "  File \"/home/marisa/anaconda3/envs/qlib/lib/python3.11/site-packages/pyqlib-0.9.5.99-py3.11-linux-x86_64.egg/qlib/tests/data.py\", line 68, in download\n",
      "    for chunk in resp.iter_content(chunk_size=chunk_size):\n",
      "  File \"/home/marisa/anaconda3/envs/qlib/lib/python3.11/site-packages/requests/models.py\", line 820, in generate\n",
      "    yield from self.raw.stream(chunk_size, decode_content=True)\n",
      "  File \"/home/marisa/anaconda3/envs/qlib/lib/python3.11/site-packages/urllib3/response.py\", line 1060, in stream\n",
      "    data = self.read(amt=amt, decode_content=decode_content)\n",
      "           ^^^^^^^^^^^^^^^^^^^^^^^^^^^^^^^^^^^^^^^^^^^^^^^^^\n",
      "  File \"/home/marisa/anaconda3/envs/qlib/lib/python3.11/site-packages/urllib3/response.py\", line 949, in read\n",
      "    data = self._raw_read(amt)\n",
      "           ^^^^^^^^^^^^^^^^^^^\n",
      "  File \"/home/marisa/anaconda3/envs/qlib/lib/python3.11/site-packages/urllib3/response.py\", line 873, in _raw_read\n",
      "    data = self._fp_read(amt, read1=read1) if not fp_closed else b\"\"\n",
      "           ^^^^^^^^^^^^^^^^^^^^^^^^^^^^^^^\n",
      "  File \"/home/marisa/anaconda3/envs/qlib/lib/python3.11/site-packages/urllib3/response.py\", line 856, in _fp_read\n",
      "    return self._fp.read(amt) if amt is not None else self._fp.read()\n",
      "           ^^^^^^^^^^^^^^^^^^\n",
      "  File \"/home/marisa/anaconda3/envs/qlib/lib/python3.11/http/client.py\", line 473, in read\n",
      "    s = self.fp.read(amt)\n",
      "        ^^^^^^^^^^^^^^^^^\n",
      "  File \"/home/marisa/anaconda3/envs/qlib/lib/python3.11/socket.py\", line 718, in readinto\n",
      "    return self._sock.recv_into(b)\n",
      "           ^^^^^^^^^^^^^^^^^^^^^^^\n",
      "  File \"/home/marisa/anaconda3/envs/qlib/lib/python3.11/ssl.py\", line 1314, in recv_into\n",
      "    return self.read(nbytes, buffer)\n",
      "           ^^^^^^^^^^^^^^^^^^^^^^^^^\n",
      "  File \"/home/marisa/anaconda3/envs/qlib/lib/python3.11/ssl.py\", line 1166, in read\n",
      "    return self._sslobj.read(len, buffer)\n",
      "           ^^^^^^^^^^^^^^^^^^^^^^^^^^^^^^\n",
      "KeyboardInterrupt\n"
     ]
    }
   ],
   "source": [
    "!python scripts/get_data.py qlib_data --target_dir ~/.qlib/qlib_data/cn_data --region cn"
   ]
  },
  {
   "cell_type": "code",
   "execution_count": 9,
   "metadata": {},
   "outputs": [
    {
     "name": "stdout",
     "output_type": "stream",
     "text": [
      "#### Do not import qlib package in the repository directory in case of importing qlib from . without compiling #####\n"
     ]
    },
    {
     "ename": "ModuleNotFoundError",
     "evalue": "No module named 'qlib.data._libs.rolling'",
     "output_type": "error",
     "traceback": [
      "\u001b[0;31m---------------------------------------------------------------------------\u001b[0m",
      "\u001b[0;31mModuleNotFoundError\u001b[0m                       Traceback (most recent call last)",
      "Cell \u001b[0;32mIn[9], line 5\u001b[0m\n\u001b[1;32m      3\u001b[0m \u001b[38;5;28;01mfrom\u001b[39;00m \u001b[38;5;21;01mqlib\u001b[39;00m\u001b[38;5;21;01m.\u001b[39;00m\u001b[38;5;21;01mconstant\u001b[39;00m \u001b[38;5;28;01mimport\u001b[39;00m REG_CN\n\u001b[1;32m      4\u001b[0m provider_uri \u001b[38;5;241m=\u001b[39m \u001b[38;5;124m\"\u001b[39m\u001b[38;5;124m~/.qlib/qlib_data/cn_data\u001b[39m\u001b[38;5;124m\"\u001b[39m  \u001b[38;5;66;03m# target_dir\u001b[39;00m\n\u001b[0;32m----> 5\u001b[0m qlib\u001b[38;5;241m.\u001b[39minit(provider_uri\u001b[38;5;241m=\u001b[39mprovider_uri, region\u001b[38;5;241m=\u001b[39mREG_CN)\n",
      "File \u001b[0;32m/mnt/e/Biance/qlib/qlib/__init__.py:35\u001b[0m, in \u001b[0;36minit\u001b[0;34m(default_conf, **kwargs)\u001b[0m\n\u001b[1;32m     18\u001b[0m \u001b[38;5;250m\u001b[39m\u001b[38;5;124;03m\"\"\"\u001b[39;00m\n\u001b[1;32m     19\u001b[0m \n\u001b[1;32m     20\u001b[0m \u001b[38;5;124;03mParameters\u001b[39;00m\n\u001b[0;32m   (...)\u001b[0m\n\u001b[1;32m     32\u001b[0m \n\u001b[1;32m     33\u001b[0m \u001b[38;5;124;03m\"\"\"\u001b[39;00m\n\u001b[1;32m     34\u001b[0m \u001b[38;5;28;01mfrom\u001b[39;00m \u001b[38;5;21;01m.\u001b[39;00m\u001b[38;5;21;01mconfig\u001b[39;00m \u001b[38;5;28;01mimport\u001b[39;00m C  \u001b[38;5;66;03m# pylint: disable=C0415\u001b[39;00m\n\u001b[0;32m---> 35\u001b[0m \u001b[38;5;28;01mfrom\u001b[39;00m \u001b[38;5;21;01m.\u001b[39;00m\u001b[38;5;21;01mdata\u001b[39;00m\u001b[38;5;21;01m.\u001b[39;00m\u001b[38;5;21;01mcache\u001b[39;00m \u001b[38;5;28;01mimport\u001b[39;00m H  \u001b[38;5;66;03m# pylint: disable=C0415\u001b[39;00m\n\u001b[1;32m     37\u001b[0m logger \u001b[38;5;241m=\u001b[39m get_module_logger(\u001b[38;5;124m\"\u001b[39m\u001b[38;5;124mInitialization\u001b[39m\u001b[38;5;124m\"\u001b[39m)\n\u001b[1;32m     39\u001b[0m skip_if_reg \u001b[38;5;241m=\u001b[39m kwargs\u001b[38;5;241m.\u001b[39mpop(\u001b[38;5;124m\"\u001b[39m\u001b[38;5;124mskip_if_reg\u001b[39m\u001b[38;5;124m\"\u001b[39m, \u001b[38;5;28;01mFalse\u001b[39;00m)\n",
      "File \u001b[0;32m/mnt/e/Biance/qlib/qlib/data/__init__.py:8\u001b[0m\n\u001b[1;32m      5\u001b[0m \u001b[38;5;28;01mfrom\u001b[39;00m \u001b[38;5;21;01m__future__\u001b[39;00m \u001b[38;5;28;01mimport\u001b[39;00m division\n\u001b[1;32m      6\u001b[0m \u001b[38;5;28;01mfrom\u001b[39;00m \u001b[38;5;21;01m__future__\u001b[39;00m \u001b[38;5;28;01mimport\u001b[39;00m print_function\n\u001b[0;32m----> 8\u001b[0m \u001b[38;5;28;01mfrom\u001b[39;00m \u001b[38;5;21;01m.\u001b[39;00m\u001b[38;5;21;01mdata\u001b[39;00m \u001b[38;5;28;01mimport\u001b[39;00m (\n\u001b[1;32m      9\u001b[0m     D,\n\u001b[1;32m     10\u001b[0m     CalendarProvider,\n\u001b[1;32m     11\u001b[0m     InstrumentProvider,\n\u001b[1;32m     12\u001b[0m     FeatureProvider,\n\u001b[1;32m     13\u001b[0m     ExpressionProvider,\n\u001b[1;32m     14\u001b[0m     DatasetProvider,\n\u001b[1;32m     15\u001b[0m     LocalCalendarProvider,\n\u001b[1;32m     16\u001b[0m     LocalInstrumentProvider,\n\u001b[1;32m     17\u001b[0m     LocalFeatureProvider,\n\u001b[1;32m     18\u001b[0m     LocalPITProvider,\n\u001b[1;32m     19\u001b[0m     LocalExpressionProvider,\n\u001b[1;32m     20\u001b[0m     LocalDatasetProvider,\n\u001b[1;32m     21\u001b[0m     ClientCalendarProvider,\n\u001b[1;32m     22\u001b[0m     ClientInstrumentProvider,\n\u001b[1;32m     23\u001b[0m     ClientDatasetProvider,\n\u001b[1;32m     24\u001b[0m     BaseProvider,\n\u001b[1;32m     25\u001b[0m     LocalProvider,\n\u001b[1;32m     26\u001b[0m     ClientProvider,\n\u001b[1;32m     27\u001b[0m )\n\u001b[1;32m     29\u001b[0m \u001b[38;5;28;01mfrom\u001b[39;00m \u001b[38;5;21;01m.\u001b[39;00m\u001b[38;5;21;01mcache\u001b[39;00m \u001b[38;5;28;01mimport\u001b[39;00m (\n\u001b[1;32m     30\u001b[0m     ExpressionCache,\n\u001b[1;32m     31\u001b[0m     DatasetCache,\n\u001b[0;32m   (...)\u001b[0m\n\u001b[1;32m     36\u001b[0m     MemoryCalendarCache,\n\u001b[1;32m     37\u001b[0m )\n\u001b[1;32m     40\u001b[0m __all__ \u001b[38;5;241m=\u001b[39m [\n\u001b[1;32m     41\u001b[0m     \u001b[38;5;124m\"\u001b[39m\u001b[38;5;124mD\u001b[39m\u001b[38;5;124m\"\u001b[39m,\n\u001b[1;32m     42\u001b[0m     \u001b[38;5;124m\"\u001b[39m\u001b[38;5;124mCalendarProvider\u001b[39m\u001b[38;5;124m\"\u001b[39m,\n\u001b[0;32m   (...)\u001b[0m\n\u001b[1;32m     65\u001b[0m     \u001b[38;5;124m\"\u001b[39m\u001b[38;5;124mMemoryCalendarCache\u001b[39m\u001b[38;5;124m\"\u001b[39m,\n\u001b[1;32m     66\u001b[0m ]\n",
      "File \u001b[0;32m/mnt/e/Biance/qlib/qlib/data/data.py:20\u001b[0m\n\u001b[1;32m     17\u001b[0m \u001b[38;5;66;03m# For supporting multiprocessing in outer code, joblib is used\u001b[39;00m\n\u001b[1;32m     18\u001b[0m \u001b[38;5;28;01mfrom\u001b[39;00m \u001b[38;5;21;01mjoblib\u001b[39;00m \u001b[38;5;28;01mimport\u001b[39;00m delayed\n\u001b[0;32m---> 20\u001b[0m \u001b[38;5;28;01mfrom\u001b[39;00m \u001b[38;5;21;01m.\u001b[39;00m\u001b[38;5;21;01mcache\u001b[39;00m \u001b[38;5;28;01mimport\u001b[39;00m H\n\u001b[1;32m     21\u001b[0m \u001b[38;5;28;01mfrom\u001b[39;00m \u001b[38;5;21;01m.\u001b[39;00m\u001b[38;5;21;01m.\u001b[39;00m\u001b[38;5;21;01mconfig\u001b[39;00m \u001b[38;5;28;01mimport\u001b[39;00m C\n\u001b[1;32m     22\u001b[0m \u001b[38;5;28;01mfrom\u001b[39;00m \u001b[38;5;21;01m.\u001b[39;00m\u001b[38;5;21;01minst_processor\u001b[39;00m \u001b[38;5;28;01mimport\u001b[39;00m InstProcessor\n",
      "File \u001b[0;32m/mnt/e/Biance/qlib/qlib/data/cache.py:36\u001b[0m\n\u001b[1;32m     34\u001b[0m \u001b[38;5;28;01mfrom\u001b[39;00m \u001b[38;5;21;01m.\u001b[39;00m\u001b[38;5;21;01m.\u001b[39;00m\u001b[38;5;21;01mlog\u001b[39;00m \u001b[38;5;28;01mimport\u001b[39;00m get_module_logger\n\u001b[1;32m     35\u001b[0m \u001b[38;5;28;01mfrom\u001b[39;00m \u001b[38;5;21;01m.\u001b[39;00m\u001b[38;5;21;01mbase\u001b[39;00m \u001b[38;5;28;01mimport\u001b[39;00m Feature\n\u001b[0;32m---> 36\u001b[0m \u001b[38;5;28;01mfrom\u001b[39;00m \u001b[38;5;21;01m.\u001b[39;00m\u001b[38;5;21;01mops\u001b[39;00m \u001b[38;5;28;01mimport\u001b[39;00m Operators  \u001b[38;5;66;03m# pylint: disable=W0611  # noqa: F401\u001b[39;00m\n\u001b[1;32m     39\u001b[0m \u001b[38;5;28;01mclass\u001b[39;00m \u001b[38;5;21;01mQlibCacheException\u001b[39;00m(\u001b[38;5;167;01mRuntimeError\u001b[39;00m):\n\u001b[1;32m     40\u001b[0m     \u001b[38;5;28;01mpass\u001b[39;00m\n",
      "File \u001b[0;32m/mnt/e/Biance/qlib/qlib/data/ops.py:18\u001b[0m\n\u001b[1;32m     15\u001b[0m \u001b[38;5;28;01mfrom\u001b[39;00m \u001b[38;5;21;01m.\u001b[39;00m\u001b[38;5;21;01m.\u001b[39;00m\u001b[38;5;21;01mutils\u001b[39;00m \u001b[38;5;28;01mimport\u001b[39;00m get_callable_kwargs\n\u001b[1;32m     17\u001b[0m \u001b[38;5;28;01mtry\u001b[39;00m:\n\u001b[0;32m---> 18\u001b[0m     \u001b[38;5;28;01mfrom\u001b[39;00m \u001b[38;5;21;01m.\u001b[39;00m\u001b[38;5;21;01m_libs\u001b[39;00m\u001b[38;5;21;01m.\u001b[39;00m\u001b[38;5;21;01mrolling\u001b[39;00m \u001b[38;5;28;01mimport\u001b[39;00m rolling_slope, rolling_rsquare, rolling_resi\n\u001b[1;32m     19\u001b[0m     \u001b[38;5;28;01mfrom\u001b[39;00m \u001b[38;5;21;01m.\u001b[39;00m\u001b[38;5;21;01m_libs\u001b[39;00m\u001b[38;5;21;01m.\u001b[39;00m\u001b[38;5;21;01mexpanding\u001b[39;00m \u001b[38;5;28;01mimport\u001b[39;00m expanding_slope, expanding_rsquare, expanding_resi\n\u001b[1;32m     20\u001b[0m \u001b[38;5;28;01mexcept\u001b[39;00m \u001b[38;5;167;01mImportError\u001b[39;00m:\n",
      "\u001b[0;31mModuleNotFoundError\u001b[0m: No module named 'qlib.data._libs.rolling'"
     ]
    }
   ],
   "source": [
    "import qlib\n",
    "# region in [REG_CN, REG_US]\n",
    "from qlib.constant import REG_CN\n",
    "provider_uri = \"~/.qlib/qlib_data/cn_data\"  # target_dir\n",
    "qlib.init(provider_uri=provider_uri, region=REG_CN)"
   ]
  },
  {
   "cell_type": "code",
   "execution_count": null,
   "metadata": {},
   "outputs": [],
   "source": []
  }
 ],
 "metadata": {
  "kernelspec": {
   "display_name": "qlib",
   "language": "python",
   "name": "python3"
  },
  "language_info": {
   "codemirror_mode": {
    "name": "ipython",
    "version": 3
   },
   "file_extension": ".py",
   "mimetype": "text/x-python",
   "name": "python",
   "nbconvert_exporter": "python",
   "pygments_lexer": "ipython3",
   "version": "3.11.10"
  }
 },
 "nbformat": 4,
 "nbformat_minor": 2
}
